{
  "cells": [
    {
      "cell_type": "code",
      "execution_count": null,
      "id": "ec40dab7",
      "metadata": {
        "id": "ec40dab7"
      },
      "outputs": [],
      "source": [
        "import pandas as pd\n",
        "import numpy as np\n",
        "import matplotlib.pyplot as plt\n",
        "get_ipython().run_line_magic('matplotlib', 'inline')"
      ]
    },
    {
      "cell_type": "code",
      "execution_count": null,
      "id": "331e846d",
      "metadata": {
        "id": "331e846d"
      },
      "outputs": [],
      "source": [
        "df=pd.read_csv('D:\\\\Downloads\\\\alzheimers.csv',index_col=0)"
      ]
    },
    {
      "cell_type": "code",
      "execution_count": null,
      "id": "96b8fd04",
      "metadata": {
        "id": "96b8fd04",
        "outputId": "695b9e63-0581-4f00-bf4a-d0b7487e4ca7"
      },
      "outputs": [
        {
          "name": "stdout",
          "output_type": "stream",
          "text": [
            "<class 'pandas.core.frame.DataFrame'>\n",
            "Index: 373 entries, OAS2_0001 to OAS2_0186\n",
            "Data columns (total 14 columns):\n",
            " #   Column    Non-Null Count  Dtype  \n",
            "---  ------    --------------  -----  \n",
            " 0   MRI ID    373 non-null    object \n",
            " 1   Group     373 non-null    object \n",
            " 2   Visit     373 non-null    int64  \n",
            " 3   MR Delay  373 non-null    int64  \n",
            " 4   M/F       373 non-null    object \n",
            " 5   Hand      373 non-null    object \n",
            " 6   Age       373 non-null    int64  \n",
            " 7   EDUC      373 non-null    int64  \n",
            " 8   SES       354 non-null    float64\n",
            " 9   MMSE      371 non-null    float64\n",
            " 10  CDR       373 non-null    float64\n",
            " 11  eTIV      373 non-null    int64  \n",
            " 12  nWBV      373 non-null    float64\n",
            " 13  ASF       373 non-null    float64\n",
            "dtypes: float64(5), int64(5), object(4)\n",
            "memory usage: 43.7+ KB\n"
          ]
        }
      ],
      "source": [
        "df.info()"
      ]
    },
    {
      "cell_type": "code",
      "execution_count": null,
      "id": "b2ee4584",
      "metadata": {
        "id": "b2ee4584",
        "outputId": "dab80421-5ca3-4513-d6cc-018a20f0ec75"
      },
      "outputs": [
        {
          "data": {
            "text/html": [
              "<div>\n",
              "<style scoped>\n",
              "    .dataframe tbody tr th:only-of-type {\n",
              "        vertical-align: middle;\n",
              "    }\n",
              "\n",
              "    .dataframe tbody tr th {\n",
              "        vertical-align: top;\n",
              "    }\n",
              "\n",
              "    .dataframe thead th {\n",
              "        text-align: right;\n",
              "    }\n",
              "</style>\n",
              "<table border=\"1\" class=\"dataframe\">\n",
              "  <thead>\n",
              "    <tr style=\"text-align: right;\">\n",
              "      <th></th>\n",
              "      <th>MRI ID</th>\n",
              "      <th>Group</th>\n",
              "      <th>Visit</th>\n",
              "      <th>MR Delay</th>\n",
              "      <th>M/F</th>\n",
              "      <th>Hand</th>\n",
              "      <th>Age</th>\n",
              "      <th>EDUC</th>\n",
              "      <th>SES</th>\n",
              "      <th>MMSE</th>\n",
              "      <th>CDR</th>\n",
              "      <th>eTIV</th>\n",
              "      <th>nWBV</th>\n",
              "      <th>ASF</th>\n",
              "    </tr>\n",
              "    <tr>\n",
              "      <th>Subject ID</th>\n",
              "      <th></th>\n",
              "      <th></th>\n",
              "      <th></th>\n",
              "      <th></th>\n",
              "      <th></th>\n",
              "      <th></th>\n",
              "      <th></th>\n",
              "      <th></th>\n",
              "      <th></th>\n",
              "      <th></th>\n",
              "      <th></th>\n",
              "      <th></th>\n",
              "      <th></th>\n",
              "      <th></th>\n",
              "    </tr>\n",
              "  </thead>\n",
              "  <tbody>\n",
              "    <tr>\n",
              "      <th>OAS2_0001</th>\n",
              "      <td>OAS2_0001_MR1</td>\n",
              "      <td>Nondemented</td>\n",
              "      <td>1</td>\n",
              "      <td>0</td>\n",
              "      <td>M</td>\n",
              "      <td>R</td>\n",
              "      <td>87</td>\n",
              "      <td>14</td>\n",
              "      <td>2.0</td>\n",
              "      <td>27.0</td>\n",
              "      <td>0.0</td>\n",
              "      <td>1987</td>\n",
              "      <td>0.696</td>\n",
              "      <td>0.883</td>\n",
              "    </tr>\n",
              "    <tr>\n",
              "      <th>OAS2_0001</th>\n",
              "      <td>OAS2_0001_MR2</td>\n",
              "      <td>Nondemented</td>\n",
              "      <td>2</td>\n",
              "      <td>457</td>\n",
              "      <td>M</td>\n",
              "      <td>R</td>\n",
              "      <td>88</td>\n",
              "      <td>14</td>\n",
              "      <td>2.0</td>\n",
              "      <td>30.0</td>\n",
              "      <td>0.0</td>\n",
              "      <td>2004</td>\n",
              "      <td>0.681</td>\n",
              "      <td>0.876</td>\n",
              "    </tr>\n",
              "    <tr>\n",
              "      <th>OAS2_0002</th>\n",
              "      <td>OAS2_0002_MR1</td>\n",
              "      <td>Demented</td>\n",
              "      <td>1</td>\n",
              "      <td>0</td>\n",
              "      <td>M</td>\n",
              "      <td>R</td>\n",
              "      <td>75</td>\n",
              "      <td>12</td>\n",
              "      <td>NaN</td>\n",
              "      <td>23.0</td>\n",
              "      <td>0.5</td>\n",
              "      <td>1678</td>\n",
              "      <td>0.736</td>\n",
              "      <td>1.046</td>\n",
              "    </tr>\n",
              "    <tr>\n",
              "      <th>OAS2_0002</th>\n",
              "      <td>OAS2_0002_MR2</td>\n",
              "      <td>Demented</td>\n",
              "      <td>2</td>\n",
              "      <td>560</td>\n",
              "      <td>M</td>\n",
              "      <td>R</td>\n",
              "      <td>76</td>\n",
              "      <td>12</td>\n",
              "      <td>NaN</td>\n",
              "      <td>28.0</td>\n",
              "      <td>0.5</td>\n",
              "      <td>1738</td>\n",
              "      <td>0.713</td>\n",
              "      <td>1.010</td>\n",
              "    </tr>\n",
              "    <tr>\n",
              "      <th>OAS2_0002</th>\n",
              "      <td>OAS2_0002_MR3</td>\n",
              "      <td>Demented</td>\n",
              "      <td>3</td>\n",
              "      <td>1895</td>\n",
              "      <td>M</td>\n",
              "      <td>R</td>\n",
              "      <td>80</td>\n",
              "      <td>12</td>\n",
              "      <td>NaN</td>\n",
              "      <td>22.0</td>\n",
              "      <td>0.5</td>\n",
              "      <td>1698</td>\n",
              "      <td>0.701</td>\n",
              "      <td>1.034</td>\n",
              "    </tr>\n",
              "  </tbody>\n",
              "</table>\n",
              "</div>"
            ],
            "text/plain": [
              "                   MRI ID        Group  Visit  MR Delay M/F Hand  Age  EDUC  \\\n",
              "Subject ID                                                                    \n",
              "OAS2_0001   OAS2_0001_MR1  Nondemented      1         0   M    R   87    14   \n",
              "OAS2_0001   OAS2_0001_MR2  Nondemented      2       457   M    R   88    14   \n",
              "OAS2_0002   OAS2_0002_MR1     Demented      1         0   M    R   75    12   \n",
              "OAS2_0002   OAS2_0002_MR2     Demented      2       560   M    R   76    12   \n",
              "OAS2_0002   OAS2_0002_MR3     Demented      3      1895   M    R   80    12   \n",
              "\n",
              "            SES  MMSE  CDR  eTIV   nWBV    ASF  \n",
              "Subject ID                                      \n",
              "OAS2_0001   2.0  27.0  0.0  1987  0.696  0.883  \n",
              "OAS2_0001   2.0  30.0  0.0  2004  0.681  0.876  \n",
              "OAS2_0002   NaN  23.0  0.5  1678  0.736  1.046  \n",
              "OAS2_0002   NaN  28.0  0.5  1738  0.713  1.010  \n",
              "OAS2_0002   NaN  22.0  0.5  1698  0.701  1.034  "
            ]
          },
          "execution_count": 66,
          "metadata": {},
          "output_type": "execute_result"
        }
      ],
      "source": [
        "df.head(5)"
      ]
    },
    {
      "cell_type": "code",
      "execution_count": null,
      "id": "2afbf1a7",
      "metadata": {
        "id": "2afbf1a7"
      },
      "outputs": [],
      "source": [
        "df['M/F'].replace(['M', 'F'], [0, 1], inplace=True)"
      ]
    },
    {
      "cell_type": "code",
      "execution_count": null,
      "id": "4e78a01e",
      "metadata": {
        "id": "4e78a01e"
      },
      "outputs": [],
      "source": [
        "df.dropna(inplace=True,axis=1)"
      ]
    },
    {
      "cell_type": "code",
      "execution_count": null,
      "id": "6782a93a",
      "metadata": {
        "id": "6782a93a"
      },
      "outputs": [],
      "source": [
        "df.drop(['MRI ID','Hand'], axis=1,inplace=True)"
      ]
    },
    {
      "cell_type": "code",
      "execution_count": null,
      "id": "2365fe1a",
      "metadata": {
        "id": "2365fe1a",
        "outputId": "895ed1b0-15ac-47f3-c91a-37656fa8afae"
      },
      "outputs": [
        {
          "name": "stdout",
          "output_type": "stream",
          "text": [
            "<class 'pandas.core.frame.DataFrame'>\n",
            "Index: 373 entries, OAS2_0001 to OAS2_0186\n",
            "Data columns (total 10 columns):\n",
            " #   Column    Non-Null Count  Dtype  \n",
            "---  ------    --------------  -----  \n",
            " 0   Group     373 non-null    object \n",
            " 1   Visit     373 non-null    int64  \n",
            " 2   MR Delay  373 non-null    int64  \n",
            " 3   M/F       373 non-null    int64  \n",
            " 4   Age       373 non-null    int64  \n",
            " 5   EDUC      373 non-null    int64  \n",
            " 6   CDR       373 non-null    float64\n",
            " 7   eTIV      373 non-null    int64  \n",
            " 8   nWBV      373 non-null    float64\n",
            " 9   ASF       373 non-null    float64\n",
            "dtypes: float64(3), int64(6), object(1)\n",
            "memory usage: 32.1+ KB\n"
          ]
        }
      ],
      "source": [
        "df.info()"
      ]
    },
    {
      "cell_type": "code",
      "execution_count": null,
      "id": "737bbfed",
      "metadata": {
        "id": "737bbfed",
        "outputId": "6ad18fad-f885-4964-c81c-7031e82a8210"
      },
      "outputs": [
        {
          "data": {
            "text/plain": [
              "<seaborn.axisgrid.FacetGrid at 0x19ffe282250>"
            ]
          },
          "execution_count": 71,
          "metadata": {},
          "output_type": "execute_result"
        },
        {
          "data": {
            "image/png": "[encoded data removed]",
            "text/plain": [
              "<Figure size 648.625x500 with 1 Axes>"
            ]
          },
          "metadata": {},
          "output_type": "display_data"
        }
      ],
      "source": [
        "import seaborn as sns\n",
        "sns.lmplot(x='M/F',y='Age',data=df,hue='Group',fit_reg=False)"
      ]
    },
    {
      "cell_type": "code",
      "execution_count": null,
      "id": "37b8e3c1",
      "metadata": {
        "id": "37b8e3c1",
        "outputId": "63de40b3-c22c-402d-b474-32741956ed64"
      },
      "outputs": [
        {
          "name": "stderr",
          "output_type": "stream",
          "text": [
            "C:\\ProgramData\\Anaconda3\\lib\\site-packages\\seaborn\\axisgrid.py:337: UserWarning: The `size` parameter has been renamed to `height`; please update your code.\n",
            "  warnings.warn(msg, UserWarning)\n"
          ]
        },
        {
          "data": {
            "image/png": "[encoded data removed]",
            "text/plain": [
              "<Figure size 1000x1000 with 1 Axes>"
            ]
          },
          "metadata": {},
          "output_type": "display_data"
        }
      ],
      "source": [
        "g=sns.FacetGrid(df,hue='EDUC',palette='coolwarm',size=10, aspect=1)\n",
        "g=g.map(plt.hist,'Group',bins=20,alpha=1)"
      ]
    },
    {
      "cell_type": "code",
      "execution_count": null,
      "id": "09472475",
      "metadata": {
        "id": "09472475"
      },
      "outputs": [],
      "source": [
        "data=df.drop('Group',axis=1)"
      ]
    },
    {
      "cell_type": "code",
      "execution_count": null,
      "id": "d71963e6",
      "metadata": {
        "id": "d71963e6",
        "outputId": "a1530e23-904b-4f8b-f359-f614b21c172f"
      },
      "outputs": [
        {
          "name": "stdout",
          "output_type": "stream",
          "text": [
            "<class 'pandas.core.frame.DataFrame'>\n",
            "Index: 373 entries, OAS2_0001 to OAS2_0186\n",
            "Data columns (total 9 columns):\n",
            " #   Column    Non-Null Count  Dtype  \n",
            "---  ------    --------------  -----  \n",
            " 0   Visit     373 non-null    int64  \n",
            " 1   MR Delay  373 non-null    int64  \n",
            " 2   M/F       373 non-null    int64  \n",
            " 3   Age       373 non-null    int64  \n",
            " 4   EDUC      373 non-null    int64  \n",
            " 5   CDR       373 non-null    float64\n",
            " 6   eTIV      373 non-null    int64  \n",
            " 7   nWBV      373 non-null    float64\n",
            " 8   ASF       373 non-null    float64\n",
            "dtypes: float64(3), int64(6)\n",
            "memory usage: 37.2+ KB\n"
          ]
        }
      ],
      "source": [
        "data.info()"
      ]
    },
    {
      "cell_type": "code",
      "execution_count": null,
      "id": "3949d440",
      "metadata": {
        "id": "3949d440"
      },
      "outputs": [],
      "source": [
        "df.dropna(inplace=True,axis=1)"
      ]
    },
    {
      "cell_type": "code",
      "execution_count": null,
      "id": "e5b5012c",
      "metadata": {
        "id": "e5b5012c",
        "outputId": "52db2302-e062-48f6-de30-7b66491a02fd"
      },
      "outputs": [
        {
          "data": {
            "text/plain": [
              "KMeans(n_clusters=2)"
            ]
          },
          "execution_count": 81,
          "metadata": {},
          "output_type": "execute_result"
        }
      ],
      "source": [
        "from sklearn.cluster import KMeans\n",
        "kmeans=KMeans(n_clusters=2)\n",
        "kmeans.fit(data)"
      ]
    },
    {
      "cell_type": "code",
      "execution_count": null,
      "id": "04bdd7a5",
      "metadata": {
        "id": "04bdd7a5",
        "outputId": "c492e1fa-b02f-4c0c-c9f8-9401ff9eb44d"
      },
      "outputs": [
        {
          "data": {
            "text/plain": [
              "array([[1.50354610e+00, 2.94698582e+02, 5.85106383e-01, 7.63936170e+01,\n",
              "        1.44645390e+01, 3.17375887e-01, 1.47440426e+03, 7.30953901e-01,\n",
              "        1.20634397e+00],\n",
              "       [3.05494505e+00, 1.52603297e+03, 5.27472527e-01, 7.89340659e+01,\n",
              "        1.50109890e+01, 2.08791209e-01, 1.53065934e+03, 7.25274725e-01,\n",
              "        1.16173626e+00]])"
            ]
          },
          "execution_count": 82,
          "metadata": {},
          "output_type": "execute_result"
        }
      ],
      "source": [
        "kmeans.cluster_centers_"
      ]
    },
    {
      "cell_type": "code",
      "execution_count": null,
      "id": "1c807bf5",
      "metadata": {
        "id": "1c807bf5",
        "outputId": "c5f12784-9610-4532-e340-47fcb954220c"
      },
      "outputs": [
        {
          "data": {
            "text/plain": [
              "array([0, 0, 0, 0, 1, 0, 0, 0, 1, 1, 0, 0, 1, 0, 0, 0, 0, 0, 0, 0, 0, 1,\n",
              "       0, 0, 1, 0, 0, 0, 0, 0, 0, 1, 1, 0, 0, 1, 0, 0, 1, 0, 1, 0, 0, 0,\n",
              "       0, 0, 0, 0, 0, 1, 1, 0, 0, 0, 1, 0, 1, 0, 0, 1, 0, 0, 0, 0, 1, 1,\n",
              "       0, 0, 0, 0, 1, 1, 0, 1, 1, 1, 0, 0, 0, 0, 1, 0, 0, 1, 0, 1, 0, 0,\n",
              "       0, 0, 0, 0, 0, 0, 0, 0, 0, 0, 0, 0, 1, 1, 0, 0, 0, 0, 0, 0, 0, 1,\n",
              "       0, 1, 0, 0, 0, 0, 0, 0, 0, 0, 0, 0, 1, 0, 0, 0, 0, 1, 0, 0, 1, 0,\n",
              "       0, 1, 0, 0, 0, 0, 1, 0, 0, 0, 0, 1, 1, 0, 0, 0, 0, 0, 0, 1, 1, 1,\n",
              "       0, 0, 0, 0, 1, 1, 1, 0, 0, 0, 1, 1, 0, 1, 0, 0, 1, 0, 0, 1, 0, 0,\n",
              "       1, 0, 0, 0, 0, 0, 0, 0, 0, 0, 0, 0, 0, 0, 0, 1, 0, 1, 0, 0, 0, 0,\n",
              "       0, 0, 1, 0, 0, 0, 1, 0, 0, 0, 0, 0, 1, 1, 0, 1, 1, 0, 0, 1, 0, 1,\n",
              "       1, 0, 0, 0, 0, 0, 0, 0, 0, 0, 0, 0, 0, 0, 0, 0, 0, 0, 0, 0, 0, 0,\n",
              "       0, 1, 1, 0, 1, 0, 0, 1, 0, 0, 0, 0, 0, 0, 0, 0, 0, 0, 1, 0, 0, 1,\n",
              "       1, 1, 0, 1, 0, 0, 1, 0, 0, 0, 1, 0, 0, 0, 1, 0, 0, 0, 0, 0, 0, 0,\n",
              "       0, 1, 0, 1, 0, 0, 0, 0, 1, 0, 0, 0, 1, 0, 0, 0, 0, 1, 1, 0, 0, 0,\n",
              "       0, 0, 0, 1, 0, 0, 0, 0, 0, 0, 0, 1, 0, 0, 0, 0, 0, 0, 1, 0, 0, 0,\n",
              "       0, 0, 0, 0, 0, 0, 0, 1, 0, 1, 0, 0, 1, 0, 0, 1, 0, 0, 1, 0, 0, 0,\n",
              "       0, 1, 0, 0, 0, 0, 1, 0, 0, 0, 0, 0, 1, 0, 0, 0, 0, 1, 0, 0, 1])"
            ]
          },
          "execution_count": 83,
          "metadata": {},
          "output_type": "execute_result"
        }
      ],
      "source": [
        "kmeans.labels_"
      ]
    },
    {
      "cell_type": "code",
      "execution_count": null,
      "id": "56633d3b",
      "metadata": {
        "id": "56633d3b"
      },
      "outputs": [],
      "source": [
        "def converter(Group):\n",
        "    if Group=='Demented':\n",
        "        return 0\n",
        "    if Group=='Nondemented':\n",
        "        return 1\n",
        "    else:\n",
        "        return 2"
      ]
    },
    {
      "cell_type": "code",
      "execution_count": null,
      "id": "53b4ed5c",
      "metadata": {
        "id": "53b4ed5c"
      },
      "outputs": [],
      "source": [
        "data['Cluster']=df['Group'].apply(converter)"
      ]
    },
    {
      "cell_type": "code",
      "execution_count": null,
      "id": "196f6d44",
      "metadata": {
        "id": "196f6d44",
        "outputId": "5c651f27-7cbe-4306-d43e-0ed8911a8584"
      },
      "outputs": [
        {
          "name": "stdout",
          "output_type": "stream",
          "text": [
            "              precision    recall  f1-score   support\n",
            "\n",
            "           0       0.45      0.87      0.59       146\n",
            "           1       0.65      0.31      0.42       190\n",
            "           2       0.00      0.00      0.00        37\n",
            "\n",
            "    accuracy                           0.50       373\n",
            "   macro avg       0.37      0.39      0.34       373\n",
            "weighted avg       0.51      0.50      0.45       373\n",
            "\n",
            "[[127  19   0]\n",
            " [131  59   0]\n",
            " [ 24  13   0]]\n"
          ]
        },
        {
          "name": "stderr",
          "output_type": "stream",
          "text": [
            "C:\\ProgramData\\Anaconda3\\lib\\site-packages\\sklearn\\metrics\\_classification.py:1318: UndefinedMetricWarning: Precision and F-score are ill-defined and being set to 0.0 in labels with no predicted samples. Use `zero_division` parameter to control this behavior.\n",
            "  _warn_prf(average, modifier, msg_start, len(result))\n",
            "C:\\ProgramData\\Anaconda3\\lib\\site-packages\\sklearn\\metrics\\_classification.py:1318: UndefinedMetricWarning: Precision and F-score are ill-defined and being set to 0.0 in labels with no predicted samples. Use `zero_division` parameter to control this behavior.\n",
            "  _warn_prf(average, modifier, msg_start, len(result))\n",
            "C:\\ProgramData\\Anaconda3\\lib\\site-packages\\sklearn\\metrics\\_classification.py:1318: UndefinedMetricWarning: Precision and F-score are ill-defined and being set to 0.0 in labels with no predicted samples. Use `zero_division` parameter to control this behavior.\n",
            "  _warn_prf(average, modifier, msg_start, len(result))\n"
          ]
        }
      ],
      "source": [
        "from sklearn.metrics import classification_report, confusion_matrix\n",
        "print(classification_report(data['Cluster'],kmeans.labels_))\n",
        "print(confusion_matrix(data['Cluster'],kmeans.labels_))"
      ]
    },
    {
      "cell_type": "code",
      "execution_count": null,
      "id": "a66f18dd",
      "metadata": {
        "id": "a66f18dd"
      },
      "outputs": [],
      "source": [
        "from scipy.spatial.distance import cdist\n",
        "data=data.drop('Cluster',axis=1)"
      ]
    },
    {
      "cell_type": "code",
      "execution_count": null,
      "id": "37dabd63",
      "metadata": {
        "id": "37dabd63",
        "outputId": "aeadc58d-4867-4d84-d7aa-6b322f5c7154"
      },
      "outputs": [
        {
          "data": {
            "text/plain": [
              "373"
            ]
          },
          "execution_count": 94,
          "metadata": {},
          "output_type": "execute_result"
        }
      ],
      "source": [
        "data.shape[0]"
      ]
    },
    {
      "cell_type": "code",
      "execution_count": null,
      "id": "cdef180d",
      "metadata": {
        "id": "cdef180d"
      },
      "outputs": [],
      "source": [
        "distortion=[]\n",
        "K=range(2,10)\n",
        "for k in K:\n",
        "    kmeans=KMeans(n_clusters=k)\n",
        "    kmeans.fit(data)\n",
        "    mse=sum(np.min(cdist(data,kmeans.cluster_centers_,\n",
        "                         'euclidean'),axis=1))/data.shape[0]\n",
        "    distortion.append(mse)"
      ]
    },
    {
      "cell_type": "code",
      "execution_count": null,
      "id": "cd6ed4e2",
      "metadata": {
        "id": "cd6ed4e2",
        "outputId": "be2ff26e-7295-4a51-c79c-8d7f1cf27592"
      },
      "outputs": [
        {
          "data": {
            "image/png": "[encoded data removed]",
            "text/plain": [
              "<Figure size 640x480 with 1 Axes>"
            ]
          },
          "metadata": {},
          "output_type": "display_data"
        }
      ],
      "source": [
        "plt.plot(K,distortion)\n",
        "plt.xlabel('Cluster K value')\n",
        "plt.ylabel('MSE')\n",
        "plt.title('Elbow Method')\n",
        "plt.show()"
      ]
    }
  ],
  "metadata": {
    "kernelspec": {
      "display_name": "Python 3 (ipykernel)",
      "language": "python",
      "name": "python3"
    },
    "language_info": {
      "codemirror_mode": {
        "name": "ipython",
        "version": 3
      },
      "file_extension": ".py",
      "mimetype": "text/x-python",
      "name": "python",
      "nbconvert_exporter": "python",
      "pygments_lexer": "ipython3",
      "version": "3.9.13"
    },
    "colab": {
      "provenance": []
    }
  },
  "nbformat": 4,
  "nbformat_minor": 5
}